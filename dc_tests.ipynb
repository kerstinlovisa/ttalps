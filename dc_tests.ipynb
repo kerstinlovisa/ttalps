{
 "cells": [
  {
   "cell_type": "code",
   "execution_count": 1,
   "id": "118701d2-952e-4be4-b754-26ba829f5a17",
   "metadata": {},
   "outputs": [],
   "source": [
    "import math\n",
    "import numpy as np\n",
    "import matplotlib.pyplot as plt"
   ]
  },
  {
   "cell_type": "code",
   "execution_count": 2,
   "id": "febdc741-4459-4aea-96c7-496406a9a0ac",
   "metadata": {},
   "outputs": [],
   "source": [
    "import data_classes as dc"
   ]
  },
  {
   "cell_type": "code",
   "execution_count": 3,
   "id": "c25314c0-bcf9-462e-a888-b8ac2ecb51ff",
   "metadata": {},
   "outputs": [],
   "source": [
    "import aux\n",
    "inputpath = aux.COMMON_INPUT_PATH"
   ]
  },
  {
   "cell_type": "code",
   "execution_count": 4,
   "id": "25ec7282-9065-49e3-9aa8-61f7cae658e5",
   "metadata": {},
   "outputs": [
    {
     "name": "stdout",
     "output_type": "stream",
     "text": [
      "/home/ruth/Documents/samples/inclusive/ma000300.lhe read with [alp, top, antitop, muon, antimuon] in Events, where muons generated\n"
     ]
    }
   ],
   "source": [
    "ds = dc.Dataset.from_lhe_alp(inputpath+'inclusive/ma000300.lhe', event_num_max=100)"
   ]
  },
  {
   "cell_type": "code",
   "execution_count": 5,
   "id": "baee965d-f911-4546-b356-c709889647a2",
   "metadata": {},
   "outputs": [
    {
     "data": {
      "text/plain": [
       "This Dataset contains 100 events."
      ]
     },
     "execution_count": 5,
     "metadata": {},
     "output_type": "execute_result"
    }
   ],
   "source": [
    "ds"
   ]
  },
  {
   "cell_type": "code",
   "execution_count": 6,
   "id": "7d6a8621-7fbe-4b9d-8f4c-a29c6cad9e9d",
   "metadata": {},
   "outputs": [
    {
     "data": {
      "text/plain": [
       "Event: ['a', 't', '\\x08ar{t}', '\\\\mu', '\\x08ar{\\\\mu}']"
      ]
     },
     "execution_count": 6,
     "metadata": {},
     "output_type": "execute_result"
    }
   ],
   "source": [
    "ds.events[0]"
   ]
  },
  {
   "cell_type": "code",
   "execution_count": 7,
   "id": "949a2128-399a-480c-8712-92ecb4814c7c",
   "metadata": {
    "tags": []
   },
   "outputs": [
    {
     "data": {
      "text/plain": [
       "0"
      ]
     },
     "execution_count": 7,
     "metadata": {},
     "output_type": "execute_result"
    }
   ],
   "source": [
    "ds.events[0].observable(\"track_from_ctau\",[0,3],radius=100,ctau=1)"
   ]
  },
  {
   "cell_type": "code",
   "execution_count": 8,
   "id": "27c5fe9d-2f48-4331-815c-3f9ef7ec597f",
   "metadata": {},
   "outputs": [
    {
     "data": {
      "text/plain": [
       "False"
      ]
     },
     "execution_count": 8,
     "metadata": {},
     "output_type": "execute_result"
    }
   ],
   "source": [
    "ds.events[0].counts([((lambda x: x>3), \"track_from_ctau\", [0,3], {'radius':100, 'ctau':1}), ((lambda x: abs(x)>0.5), \"pseudorapidity\", [0], {})])"
   ]
  },
  {
   "cell_type": "code",
   "execution_count": 9,
   "id": "d3eb19eb-6041-4bde-85ce-6b8f240c098c",
   "metadata": {},
   "outputs": [
    {
     "data": {
      "text/plain": [
       "0.1"
      ]
     },
     "execution_count": 9,
     "metadata": {},
     "output_type": "execute_result"
    }
   ],
   "source": [
    "ds.count_with_restrictions([((lambda x: x>3), \"track_from_ctau\", [\"alp\", \"muon\"], {'radius':100, 'ctau':1}), ((lambda x: abs(x)>0.5), \"eta\", [\"alp\"])])"
   ]
  },
  {
   "cell_type": "code",
   "execution_count": 25,
   "id": "6e58e95b-21a0-4aff-9657-eabedf85fe6d",
   "metadata": {},
   "outputs": [
    {
     "data": {
      "text/plain": [
       "Particle a with momentum FourVector: [60.617318292, -40.027558462, -37.319018058, 26.066352482]"
      ]
     },
     "execution_count": 25,
     "metadata": {},
     "output_type": "execute_result"
    }
   ],
   "source": [
    "ds.events[0][0]"
   ]
  },
  {
   "cell_type": "code",
   "execution_count": 26,
   "id": "b2ad8d75-3d5b-4c76-a3a3-16b3cf30b2ff",
   "metadata": {},
   "outputs": [
    {
     "data": {
      "text/plain": [
       "FourVector: [60.617318292, -40.027558462, -37.319018058, 26.066352482]"
      ]
     },
     "execution_count": 26,
     "metadata": {},
     "output_type": "execute_result"
    }
   ],
   "source": [
    "ds.events[0][0].fourmomentum"
   ]
  },
  {
   "cell_type": "code",
   "execution_count": 28,
   "id": "9d4ff25c-2d5c-49a4-8e22-e8061f7edce5",
   "metadata": {},
   "outputs": [
    {
     "data": {
      "text/plain": [
       "10.438727409791186"
      ]
     },
     "execution_count": 28,
     "metadata": {},
     "output_type": "execute_result"
    }
   ],
   "source": [
    "ds.observables(\"track_from_ctau\",[\"alp\",\"muon\"],100,1).mean()"
   ]
  },
  {
   "cell_type": "code",
   "execution_count": 36,
   "id": "eda1ed99-cf20-4e83-8515-9c0f7fefa8a6",
   "metadata": {},
   "outputs": [
    {
     "name": "stdout",
     "output_type": "stream",
     "text": [
      "32\n",
      "2\n"
     ]
    }
   ],
   "source": [
    "l = [obs.abs_2d() for obs in ds.observables(\"decay_vertex\",[\"alp\"],1)]\n",
    "il = [i for i in range(len(l)) if l[i]<100]\n",
    "print(len(il))\n",
    "print(il[1])"
   ]
  },
  {
   "cell_type": "code",
   "execution_count": 39,
   "id": "034c7b9c-cc45-4d32-b8cb-6214af39d3e4",
   "metadata": {},
   "outputs": [],
   "source": [
    "ev = ds.events[2]"
   ]
  },
  {
   "cell_type": "code",
   "execution_count": 40,
   "id": "4e50039b-ed88-4fbc-900a-21791a14af9d",
   "metadata": {},
   "outputs": [
    {
     "data": {
      "text/plain": [
       "Event: ['a', 't', '\\x08ar{t}', '\\\\mu', '\\x08ar{\\\\mu}']"
      ]
     },
     "execution_count": 40,
     "metadata": {},
     "output_type": "execute_result"
    }
   ],
   "source": [
    "ev"
   ]
  },
  {
   "cell_type": "code",
   "execution_count": 42,
   "id": "c075c2a5-b4c1-4566-a5bb-b354b030ae94",
   "metadata": {},
   "outputs": [
    {
     "name": "stdout",
     "output_type": "stream",
     "text": [
      "Particle a with momentum FourVector: [50.20390844, -14.823511027, -45.629816699, -14.782617209]\n",
      "Particle \\mu with momentum FourVector: [40.35824065938661, -11.890494439571034, -36.67464087366751, -11.931608617404114]\n"
     ]
    }
   ],
   "source": [
    "print(ev.particles[0])\n",
    "print(ev.particles[3])"
   ]
  },
  {
   "cell_type": "code",
   "execution_count": 82,
   "id": "c5eab843-e1ba-4f7a-a574-6a5ba7d7e005",
   "metadata": {},
   "outputs": [
    {
     "name": "stdout",
     "output_type": "stream",
     "text": [
      "168.63564924831232\n",
      "117.29123525690582\n"
     ]
    },
    {
     "data": {
      "image/png": "[encoded data removed]",
      "text/plain": [
       "<Figure size 432x288 with 1 Axes>"
      ]
     },
     "metadata": {
      "needs_background": "light"
     },
     "output_type": "display_data"
    },
    {
     "data": {
      "image/png": "[encoded data removed]",
      "text/plain": [
       "<Figure size 432x288 with 1 Axes>"
      ]
     },
     "metadata": {
      "needs_background": "light"
     },
     "output_type": "display_data"
    },
    {
     "name": "stdout",
     "output_type": "stream",
     "text": [
      "0.8302\n"
     ]
    },
    {
     "data": {
      "image/png": "[encoded data removed]",
      "text/plain": [
       "<Figure size 432x288 with 1 Axes>"
      ]
     },
     "metadata": {
      "needs_background": "light"
     },
     "output_type": "display_data"
    }
   ],
   "source": [
    "ctau = 1\n",
    "n = 10000\n",
    "rad = 300\n",
    "dvl = []\n",
    "trl = []\n",
    "trl2 = []\n",
    "for _ in range(n):\n",
    "    dv = ev.particles[0].decay_vertex(ctau)\n",
    "    dvl.append(dv.abs_3d())\n",
    "    trl.append(ev[3].tracklength_to_radius(rad,dv))\n",
    "    trl2.append(ev.track_from_ctau(0,3,rad,ctau))\n",
    "print(np.mean(np.array(dvl)))\n",
    "print(np.median(np.array(dvl)))\n",
    "plt.hist(dvl,bins=100,density=True)\n",
    "plt.axvline(rad)\n",
    "xs = np.linspace(0,1500,100)\n",
    "def exponential(x):\n",
    "    return math.exp(-x/(ev.particles[0].boost()*ctau))/(ev.particles[0].boost()*ctau)\n",
    "plt.plot(xs, [exponential(x) for x in xs])\n",
    "plt.show()\n",
    "plt.hist([trl,trl2],bins=100)\n",
    "plt.show()\n",
    "nonzerotrl = [tr for tr in trl if tr>0]\n",
    "nonzerotrl2 = [tr for tr in trl2 if tr>0]\n",
    "print(len(nonzerotrl)/n)\n",
    "plt.hist([nonzerotrl,nonzerotrl2],bins=100)\n",
    "plt.show()"
   ]
  },
  {
   "cell_type": "code",
   "execution_count": null,
   "id": "da21b497-c29d-498b-8459-ed6a84af987a",
   "metadata": {},
   "outputs": [],
   "source": []
  }
 ],
 "metadata": {
  "kernelspec": {
   "display_name": "Python 3 (ipykernel)",
   "language": "python",
   "name": "python3"
  },
  "language_info": {
   "codemirror_mode": {
    "name": "ipython",
    "version": 3
   },
   "file_extension": ".py",
   "mimetype": "text/x-python",
   "name": "python",
   "nbconvert_exporter": "python",
   "pygments_lexer": "ipython3",
   "version": "3.9.7"
  }
 },
 "nbformat": 4,
 "nbformat_minor": 5
}
